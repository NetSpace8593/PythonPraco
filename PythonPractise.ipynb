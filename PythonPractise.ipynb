{
 "cells": [
  {
   "cell_type": "code",
   "execution_count": 2,
   "metadata": {},
   "outputs": [
    {
     "name": "stdout",
     "output_type": "stream",
     "text": [
      "How many numbers?4\n",
      "Enter any number85\n",
      "Enter any number38\n",
      "Enter any number58\n",
      "Enter any number44\n",
      "Average is: 56.25\n"
     ]
    }
   ],
   "source": [
    "#How to sum of the first N Positive Integer in Python\n",
    "num = int(input(\"How many numbers?\"))\n",
    "total_sum = 0\n",
    "\n",
    "for n in range (num):\n",
    "    numbers = float(input(\"Enter any number\"))\n",
    "    total_sum += numbers\n",
    "    \n",
    "avg = total_sum / num\n",
    "print(\"Average is:\", avg)"
   ]
  },
  {
   "cell_type": "code",
   "execution_count": null,
   "metadata": {},
   "outputs": [],
   "source": []
  }
 ],
 "metadata": {
  "kernelspec": {
   "display_name": "Python 3",
   "language": "python",
   "name": "python3"
  },
  "language_info": {
   "codemirror_mode": {
    "name": "ipython",
    "version": 3
   },
   "file_extension": ".py",
   "mimetype": "text/x-python",
   "name": "python",
   "nbconvert_exporter": "python",
   "pygments_lexer": "ipython3",
   "version": "3.7.3"
  }
 },
 "nbformat": 4,
 "nbformat_minor": 2
}
